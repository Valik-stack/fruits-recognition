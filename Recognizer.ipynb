{
 "cells": [
  {
   "cell_type": "code",
   "execution_count": 6,
   "id": "6411083d-b74b-4a3e-8309-9e64fb2c3561",
   "metadata": {
    "tags": []
   },
   "outputs": [
    {
     "name": "stdout",
     "output_type": "stream",
     "text": [
      "\u001b[1m1/1\u001b[0m \u001b[32m━━━━━━━━━━━━━━━━━━━━\u001b[0m\u001b[37m\u001b[0m \u001b[1m0s\u001b[0m 203ms/step\n"
     ]
    }
   ],
   "source": [
    "import tkinter as tk\n",
    "from tkinter import filedialog\n",
    "from PIL import Image, ImageTk\n",
    "import numpy as np\n",
    "import tensorflow as tf\n",
    "\n",
    "# Loading class names\n",
    "with open('class_names.txt', 'r') as file:\n",
    "    class_names = file.read().splitlines()\n",
    "\n",
    "# Loading and preprocessing image for recognition\n",
    "def process_image(image_path, target_size=(224, 224)):\n",
    "    image = Image.open(image_path)\n",
    "    image = image.resize(target_size)\n",
    "    image = np.array(image) / 255.0  # Нормалізація\n",
    "    return image\n",
    "\n",
    "# Recognition\n",
    "def classify_image(image):\n",
    "    model = tf.keras.models.load_model('fruit_classification_model.keras')\n",
    "    prediction = model.predict(np.expand_dims(image, axis=0))\n",
    "    predicted_class = np.argmax(prediction)\n",
    "    return predicted_class\n",
    "\n",
    "# Button proccessor\n",
    "def classify_button_clicked():\n",
    "    file_path = filedialog.askopenfilename()\n",
    "    if file_path:\n",
    "        image = process_image(file_path)\n",
    "        predicted_class = classify_image(image)\n",
    "        label.config(text=f\"I think this is: {class_names[predicted_class]}\")\n",
    "\n",
    "# Window creation\n",
    "root = tk.Tk()\n",
    "root.title(\"Fruits images recognizer\")\n",
    "root.geometry(\"900x600\")\n",
    "\n",
    "# Function to display image\n",
    "def display_image(image_path):\n",
    "    image = Image.open(image_path)\n",
    "    image.thumbnail((400, 400))\n",
    "    global photo\n",
    "    photo = ImageTk.PhotoImage(image)\n",
    "    image_label.config(image=photo)\n",
    "\n",
    "# Button proccessor\n",
    "def classify_button_clicked():\n",
    "    file_path = filedialog.askopenfilename()\n",
    "    if file_path:\n",
    "        display_image(file_path)\n",
    "        image = process_image(file_path)\n",
    "        predicted_class = classify_image(image)\n",
    "        label.config(text=f\"I think this is {class_names[predicted_class]}\")\n",
    "\n",
    "# Result text creation\n",
    "label = tk.Label(root, text=\"I can recognize 30 types of fruits, click load image button\")\n",
    "label.pack(pady=(60, 0))\n",
    "        \n",
    "# Label for displaying image\n",
    "image_label = tk.Label(root)\n",
    "image_label.pack(expand=True)\n",
    "image_label.configure(anchor=\"center\")\n",
    "\n",
    "# Button creation\n",
    "classify_button = tk.Button(root, text=\"Load image\", command=classify_button_clicked)\n",
    "classify_button.pack(pady=(0, 60))\n",
    "\n",
    "root.mainloop()"
   ]
  },
  {
   "cell_type": "code",
   "execution_count": null,
   "id": "5bbe2ef9-2ef5-4848-89a7-738bfcb42200",
   "metadata": {},
   "outputs": [],
   "source": []
  }
 ],
 "metadata": {
  "kernelspec": {
   "display_name": "tfkernel",
   "language": "python",
   "name": "tfkernel"
  },
  "language_info": {
   "codemirror_mode": {
    "name": "ipython",
    "version": 3
   },
   "file_extension": ".py",
   "mimetype": "text/x-python",
   "name": "python",
   "nbconvert_exporter": "python",
   "pygments_lexer": "ipython3",
   "version": "3.12.2"
  }
 },
 "nbformat": 4,
 "nbformat_minor": 5
}
